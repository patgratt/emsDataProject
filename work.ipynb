{
 "cells": [
  {
   "cell_type": "code",
   "execution_count": 15,
   "metadata": {},
   "outputs": [],
   "source": [
    "import pandas as pd\n",
    "import os"
   ]
  },
  {
   "cell_type": "code",
   "execution_count": 16,
   "metadata": {},
   "outputs": [
    {
     "data": {
      "text/plain": [
       "'/Users/patrickburke/Library/CloudStorage/OneDrive-EmoryUniversity/ECON496RW'"
      ]
     },
     "execution_count": 16,
     "metadata": {},
     "output_type": "execute_result"
    }
   ],
   "source": [
    "pwd = os.getcwd()\n",
    "pwd"
   ]
  },
  {
   "cell_type": "code",
   "execution_count": 17,
   "metadata": {},
   "outputs": [],
   "source": [
    "data = pd.read_csv(pwd + '/decompressed/FACTPCRARRESTROSC.txt', sep=\"|\", nrows=10)"
   ]
  },
  {
   "cell_type": "code",
   "execution_count": 18,
   "metadata": {},
   "outputs": [
    {
     "data": {
      "text/html": [
       "<div>\n",
       "<style scoped>\n",
       "    .dataframe tbody tr th:only-of-type {\n",
       "        vertical-align: middle;\n",
       "    }\n",
       "\n",
       "    .dataframe tbody tr th {\n",
       "        vertical-align: top;\n",
       "    }\n",
       "\n",
       "    .dataframe thead th {\n",
       "        text-align: right;\n",
       "    }\n",
       "</style>\n",
       "<table border=\"1\" class=\"dataframe\">\n",
       "  <thead>\n",
       "    <tr style=\"text-align: right;\">\n",
       "      <th></th>\n",
       "      <th>'PcrKey'~</th>\n",
       "      <th>~'eArrest_12'</th>\n",
       "    </tr>\n",
       "  </thead>\n",
       "  <tbody>\n",
       "    <tr>\n",
       "      <th>0</th>\n",
       "      <td>1472192 ~</td>\n",
       "      <td>~7701003</td>\n",
       "    </tr>\n",
       "    <tr>\n",
       "      <th>1</th>\n",
       "      <td>13273412 ~</td>\n",
       "      <td>~7701001</td>\n",
       "    </tr>\n",
       "    <tr>\n",
       "      <th>2</th>\n",
       "      <td>14548133 ~</td>\n",
       "      <td>~7701003</td>\n",
       "    </tr>\n",
       "    <tr>\n",
       "      <th>3</th>\n",
       "      <td>17184298 ~</td>\n",
       "      <td>~7701003</td>\n",
       "    </tr>\n",
       "    <tr>\n",
       "      <th>4</th>\n",
       "      <td>21699657 ~</td>\n",
       "      <td>~7701003</td>\n",
       "    </tr>\n",
       "    <tr>\n",
       "      <th>5</th>\n",
       "      <td>21719864 ~</td>\n",
       "      <td>~7701003</td>\n",
       "    </tr>\n",
       "    <tr>\n",
       "      <th>6</th>\n",
       "      <td>72057010 ~</td>\n",
       "      <td>~7701003</td>\n",
       "    </tr>\n",
       "    <tr>\n",
       "      <th>7</th>\n",
       "      <td>73335292 ~</td>\n",
       "      <td>~7701003</td>\n",
       "    </tr>\n",
       "    <tr>\n",
       "      <th>8</th>\n",
       "      <td>79846935 ~</td>\n",
       "      <td>~7701003</td>\n",
       "    </tr>\n",
       "    <tr>\n",
       "      <th>9</th>\n",
       "      <td>81481800 ~</td>\n",
       "      <td>~7701001</td>\n",
       "    </tr>\n",
       "  </tbody>\n",
       "</table>\n",
       "</div>"
      ],
      "text/plain": [
       "    'PcrKey'~ ~'eArrest_12'\n",
       "0   1472192 ~   ~7701003   \n",
       "1  13273412 ~   ~7701001   \n",
       "2  14548133 ~   ~7701003   \n",
       "3  17184298 ~   ~7701003   \n",
       "4  21699657 ~   ~7701003   \n",
       "5  21719864 ~   ~7701003   \n",
       "6  72057010 ~   ~7701003   \n",
       "7  73335292 ~   ~7701003   \n",
       "8  79846935 ~   ~7701003   \n",
       "9  81481800 ~   ~7701001   "
      ]
     },
     "execution_count": 18,
     "metadata": {},
     "output_type": "execute_result"
    }
   ],
   "source": [
    "data"
   ]
  },
  {
   "cell_type": "code",
   "execution_count": 19,
   "metadata": {},
   "outputs": [],
   "source": [
    "data = data.apply(lambda x: x.str.strip(\"~ \") if x.dtype == \"object\" else x)"
   ]
  },
  {
   "cell_type": "code",
   "execution_count": 20,
   "metadata": {},
   "outputs": [
    {
     "data": {
      "text/html": [
       "<div>\n",
       "<style scoped>\n",
       "    .dataframe tbody tr th:only-of-type {\n",
       "        vertical-align: middle;\n",
       "    }\n",
       "\n",
       "    .dataframe tbody tr th {\n",
       "        vertical-align: top;\n",
       "    }\n",
       "\n",
       "    .dataframe thead th {\n",
       "        text-align: right;\n",
       "    }\n",
       "</style>\n",
       "<table border=\"1\" class=\"dataframe\">\n",
       "  <thead>\n",
       "    <tr style=\"text-align: right;\">\n",
       "      <th></th>\n",
       "      <th>'PcrKey'~</th>\n",
       "      <th>~'eArrest_12'</th>\n",
       "    </tr>\n",
       "  </thead>\n",
       "  <tbody>\n",
       "    <tr>\n",
       "      <th>0</th>\n",
       "      <td>1472192</td>\n",
       "      <td>7701003</td>\n",
       "    </tr>\n",
       "    <tr>\n",
       "      <th>1</th>\n",
       "      <td>13273412</td>\n",
       "      <td>7701001</td>\n",
       "    </tr>\n",
       "    <tr>\n",
       "      <th>2</th>\n",
       "      <td>14548133</td>\n",
       "      <td>7701003</td>\n",
       "    </tr>\n",
       "    <tr>\n",
       "      <th>3</th>\n",
       "      <td>17184298</td>\n",
       "      <td>7701003</td>\n",
       "    </tr>\n",
       "    <tr>\n",
       "      <th>4</th>\n",
       "      <td>21699657</td>\n",
       "      <td>7701003</td>\n",
       "    </tr>\n",
       "    <tr>\n",
       "      <th>5</th>\n",
       "      <td>21719864</td>\n",
       "      <td>7701003</td>\n",
       "    </tr>\n",
       "    <tr>\n",
       "      <th>6</th>\n",
       "      <td>72057010</td>\n",
       "      <td>7701003</td>\n",
       "    </tr>\n",
       "    <tr>\n",
       "      <th>7</th>\n",
       "      <td>73335292</td>\n",
       "      <td>7701003</td>\n",
       "    </tr>\n",
       "    <tr>\n",
       "      <th>8</th>\n",
       "      <td>79846935</td>\n",
       "      <td>7701003</td>\n",
       "    </tr>\n",
       "    <tr>\n",
       "      <th>9</th>\n",
       "      <td>81481800</td>\n",
       "      <td>7701001</td>\n",
       "    </tr>\n",
       "  </tbody>\n",
       "</table>\n",
       "</div>"
      ],
      "text/plain": [
       "  'PcrKey'~ ~'eArrest_12'\n",
       "0   1472192       7701003\n",
       "1  13273412       7701001\n",
       "2  14548133       7701003\n",
       "3  17184298       7701003\n",
       "4  21699657       7701003\n",
       "5  21719864       7701003\n",
       "6  72057010       7701003\n",
       "7  73335292       7701003\n",
       "8  79846935       7701003\n",
       "9  81481800       7701001"
      ]
     },
     "execution_count": 20,
     "metadata": {},
     "output_type": "execute_result"
    }
   ],
   "source": [
    "data"
   ]
  },
  {
   "cell_type": "code",
   "execution_count": 21,
   "metadata": {},
   "outputs": [],
   "source": [
    "data = data.apply(pd.to_numeric)"
   ]
  },
  {
   "cell_type": "code",
   "execution_count": 22,
   "metadata": {},
   "outputs": [
    {
     "data": {
      "text/html": [
       "<div>\n",
       "<style scoped>\n",
       "    .dataframe tbody tr th:only-of-type {\n",
       "        vertical-align: middle;\n",
       "    }\n",
       "\n",
       "    .dataframe tbody tr th {\n",
       "        vertical-align: top;\n",
       "    }\n",
       "\n",
       "    .dataframe thead th {\n",
       "        text-align: right;\n",
       "    }\n",
       "</style>\n",
       "<table border=\"1\" class=\"dataframe\">\n",
       "  <thead>\n",
       "    <tr style=\"text-align: right;\">\n",
       "      <th></th>\n",
       "      <th>'PcrKey'~</th>\n",
       "      <th>~'eArrest_12'</th>\n",
       "    </tr>\n",
       "  </thead>\n",
       "  <tbody>\n",
       "    <tr>\n",
       "      <th>0</th>\n",
       "      <td>1472192</td>\n",
       "      <td>7701003</td>\n",
       "    </tr>\n",
       "    <tr>\n",
       "      <th>1</th>\n",
       "      <td>13273412</td>\n",
       "      <td>7701001</td>\n",
       "    </tr>\n",
       "    <tr>\n",
       "      <th>2</th>\n",
       "      <td>14548133</td>\n",
       "      <td>7701003</td>\n",
       "    </tr>\n",
       "    <tr>\n",
       "      <th>3</th>\n",
       "      <td>17184298</td>\n",
       "      <td>7701003</td>\n",
       "    </tr>\n",
       "    <tr>\n",
       "      <th>4</th>\n",
       "      <td>21699657</td>\n",
       "      <td>7701003</td>\n",
       "    </tr>\n",
       "    <tr>\n",
       "      <th>5</th>\n",
       "      <td>21719864</td>\n",
       "      <td>7701003</td>\n",
       "    </tr>\n",
       "    <tr>\n",
       "      <th>6</th>\n",
       "      <td>72057010</td>\n",
       "      <td>7701003</td>\n",
       "    </tr>\n",
       "    <tr>\n",
       "      <th>7</th>\n",
       "      <td>73335292</td>\n",
       "      <td>7701003</td>\n",
       "    </tr>\n",
       "    <tr>\n",
       "      <th>8</th>\n",
       "      <td>79846935</td>\n",
       "      <td>7701003</td>\n",
       "    </tr>\n",
       "    <tr>\n",
       "      <th>9</th>\n",
       "      <td>81481800</td>\n",
       "      <td>7701001</td>\n",
       "    </tr>\n",
       "  </tbody>\n",
       "</table>\n",
       "</div>"
      ],
      "text/plain": [
       "   'PcrKey'~  ~'eArrest_12'\n",
       "0    1472192        7701003\n",
       "1   13273412        7701001\n",
       "2   14548133        7701003\n",
       "3   17184298        7701003\n",
       "4   21699657        7701003\n",
       "5   21719864        7701003\n",
       "6   72057010        7701003\n",
       "7   73335292        7701003\n",
       "8   79846935        7701003\n",
       "9   81481800        7701001"
      ]
     },
     "execution_count": 22,
     "metadata": {},
     "output_type": "execute_result"
    }
   ],
   "source": [
    "data"
   ]
  },
  {
   "cell_type": "code",
   "execution_count": 23,
   "metadata": {},
   "outputs": [
    {
     "data": {
      "text/plain": [
       "7701003"
      ]
     },
     "execution_count": 23,
     "metadata": {},
     "output_type": "execute_result"
    }
   ],
   "source": [
    "foo = data.iloc[0,1]\n",
    "foo"
   ]
  },
  {
   "cell_type": "code",
   "execution_count": 24,
   "metadata": {},
   "outputs": [
    {
     "data": {
      "text/plain": [
       "numpy.int64"
      ]
     },
     "execution_count": 24,
     "metadata": {},
     "output_type": "execute_result"
    }
   ],
   "source": [
    "type(foo)"
   ]
  },
  {
   "cell_type": "code",
   "execution_count": 77,
   "metadata": {},
   "outputs": [],
   "source": [
    "data = data.rename(columns={\"'PcrPatientRaceGroupKey'~\":\"PcrPatientRaceGroupKey\",\n",
    "                        \"~'PcrKey'~\":\"PcrKey\",\n",
    "                        \"~'ePatient_14'\":\"ePatient_14\"\n",
    " })"
   ]
  },
  {
   "cell_type": "code",
   "execution_count": 16,
   "metadata": {},
   "outputs": [
    {
     "data": {
      "text/plain": [
       "'PcrKey'~        object\n",
       "~'eArrest_12'    object\n",
       "dtype: object"
      ]
     },
     "execution_count": 16,
     "metadata": {},
     "output_type": "execute_result"
    }
   ],
   "source": [
    "data.dtypes"
   ]
  },
  {
   "cell_type": "code",
   "execution_count": 79,
   "metadata": {},
   "outputs": [],
   "source": [
    "data[\"PcrKey\"] = data['PcrKey'].str.strip(\"~\")\n",
    "data[\"ePatient_14\"] = data[\"ePatient_14\"].str.strip(\"~\")\n",
    "data[\"PcrPatientRaceGroupKey\"] = data[\"PcrPatientRaceGroupKey\"].str.strip(\"~\")"
   ]
  },
  {
   "cell_type": "code",
   "execution_count": 80,
   "metadata": {},
   "outputs": [
    {
     "data": {
      "text/html": [
       "<div>\n",
       "<style scoped>\n",
       "    .dataframe tbody tr th:only-of-type {\n",
       "        vertical-align: middle;\n",
       "    }\n",
       "\n",
       "    .dataframe tbody tr th {\n",
       "        vertical-align: top;\n",
       "    }\n",
       "\n",
       "    .dataframe thead th {\n",
       "        text-align: right;\n",
       "    }\n",
       "</style>\n",
       "<table border=\"1\" class=\"dataframe\">\n",
       "  <thead>\n",
       "    <tr style=\"text-align: right;\">\n",
       "      <th></th>\n",
       "      <th>PcrPatientRaceGroupKey</th>\n",
       "      <th>PcrKey</th>\n",
       "      <th>ePatient_14</th>\n",
       "    </tr>\n",
       "  </thead>\n",
       "  <tbody>\n",
       "    <tr>\n",
       "      <th>0</th>\n",
       "      <td>2088217</td>\n",
       "      <td>1472192</td>\n",
       "      <td>7701003</td>\n",
       "    </tr>\n",
       "    <tr>\n",
       "      <th>1</th>\n",
       "      <td>16835623</td>\n",
       "      <td>13273412</td>\n",
       "      <td>2514011</td>\n",
       "    </tr>\n",
       "    <tr>\n",
       "      <th>2</th>\n",
       "      <td>18418102</td>\n",
       "      <td>14548133</td>\n",
       "      <td>7701003</td>\n",
       "    </tr>\n",
       "    <tr>\n",
       "      <th>3</th>\n",
       "      <td>21377926</td>\n",
       "      <td>17184298</td>\n",
       "      <td>2514011</td>\n",
       "    </tr>\n",
       "    <tr>\n",
       "      <th>4</th>\n",
       "      <td>38817731</td>\n",
       "      <td>21699657</td>\n",
       "      <td>2514011</td>\n",
       "    </tr>\n",
       "  </tbody>\n",
       "</table>\n",
       "</div>"
      ],
      "text/plain": [
       "  PcrPatientRaceGroupKey     PcrKey ePatient_14\n",
       "0               2088217    1472192   7701003   \n",
       "1              16835623   13273412   2514011   \n",
       "2              18418102   14548133   7701003   \n",
       "3              21377926   17184298   2514011   \n",
       "4              38817731   21699657   2514011   "
      ]
     },
     "execution_count": 80,
     "metadata": {},
     "output_type": "execute_result"
    }
   ],
   "source": [
    "data.head()"
   ]
  },
  {
   "cell_type": "code",
   "execution_count": 82,
   "metadata": {},
   "outputs": [],
   "source": [
    "data.to_csv(pwd + '/cleaned/patientRaceGroup.txt')"
   ]
  },
  {
   "cell_type": "code",
   "execution_count": 6,
   "metadata": {},
   "outputs": [
    {
     "data": {
      "text/html": [
       "<div>\n",
       "<style scoped>\n",
       "    .dataframe tbody tr th:only-of-type {\n",
       "        vertical-align: middle;\n",
       "    }\n",
       "\n",
       "    .dataframe tbody tr th {\n",
       "        vertical-align: top;\n",
       "    }\n",
       "\n",
       "    .dataframe thead th {\n",
       "        text-align: right;\n",
       "    }\n",
       "</style>\n",
       "<table border=\"1\" class=\"dataframe\">\n",
       "  <thead>\n",
       "    <tr style=\"text-align: right;\">\n",
       "      <th></th>\n",
       "      <th>'PcrKey'~</th>\n",
       "      <th>~'eArrest_12'</th>\n",
       "    </tr>\n",
       "  </thead>\n",
       "  <tbody>\n",
       "    <tr>\n",
       "      <th>0</th>\n",
       "      <td>1472192 ~</td>\n",
       "      <td>~7701003</td>\n",
       "    </tr>\n",
       "    <tr>\n",
       "      <th>1</th>\n",
       "      <td>13273412 ~</td>\n",
       "      <td>~7701001</td>\n",
       "    </tr>\n",
       "    <tr>\n",
       "      <th>2</th>\n",
       "      <td>14548133 ~</td>\n",
       "      <td>~7701003</td>\n",
       "    </tr>\n",
       "    <tr>\n",
       "      <th>3</th>\n",
       "      <td>17184298 ~</td>\n",
       "      <td>~7701003</td>\n",
       "    </tr>\n",
       "    <tr>\n",
       "      <th>4</th>\n",
       "      <td>21699657 ~</td>\n",
       "      <td>~7701003</td>\n",
       "    </tr>\n",
       "  </tbody>\n",
       "</table>\n",
       "</div>"
      ],
      "text/plain": [
       "    'PcrKey'~ ~'eArrest_12'\n",
       "0   1472192 ~   ~7701003   \n",
       "1  13273412 ~   ~7701001   \n",
       "2  14548133 ~   ~7701003   \n",
       "3  17184298 ~   ~7701003   \n",
       "4  21699657 ~   ~7701003   "
      ]
     },
     "execution_count": 6,
     "metadata": {},
     "output_type": "execute_result"
    }
   ],
   "source": [
    "# next\n",
    "\n",
    "data = pd.read_csv(pwd + '/decompressed/FACTPCRARRESTROSC.txt', sep=\"|\")\n",
    "data.head()"
   ]
  },
  {
   "cell_type": "code",
   "execution_count": 7,
   "metadata": {},
   "outputs": [
    {
     "data": {
      "text/html": [
       "<div>\n",
       "<style scoped>\n",
       "    .dataframe tbody tr th:only-of-type {\n",
       "        vertical-align: middle;\n",
       "    }\n",
       "\n",
       "    .dataframe tbody tr th {\n",
       "        vertical-align: top;\n",
       "    }\n",
       "\n",
       "    .dataframe thead th {\n",
       "        text-align: right;\n",
       "    }\n",
       "</style>\n",
       "<table border=\"1\" class=\"dataframe\">\n",
       "  <thead>\n",
       "    <tr style=\"text-align: right;\">\n",
       "      <th></th>\n",
       "      <th>PcrKey</th>\n",
       "      <th>eArrest_12</th>\n",
       "    </tr>\n",
       "  </thead>\n",
       "  <tbody>\n",
       "    <tr>\n",
       "      <th>0</th>\n",
       "      <td>1472192 ~</td>\n",
       "      <td>~7701003</td>\n",
       "    </tr>\n",
       "    <tr>\n",
       "      <th>1</th>\n",
       "      <td>13273412 ~</td>\n",
       "      <td>~7701001</td>\n",
       "    </tr>\n",
       "    <tr>\n",
       "      <th>2</th>\n",
       "      <td>14548133 ~</td>\n",
       "      <td>~7701003</td>\n",
       "    </tr>\n",
       "    <tr>\n",
       "      <th>3</th>\n",
       "      <td>17184298 ~</td>\n",
       "      <td>~7701003</td>\n",
       "    </tr>\n",
       "    <tr>\n",
       "      <th>4</th>\n",
       "      <td>21699657 ~</td>\n",
       "      <td>~7701003</td>\n",
       "    </tr>\n",
       "  </tbody>\n",
       "</table>\n",
       "</div>"
      ],
      "text/plain": [
       "       PcrKey   eArrest_12\n",
       "0   1472192 ~  ~7701003   \n",
       "1  13273412 ~  ~7701001   \n",
       "2  14548133 ~  ~7701003   \n",
       "3  17184298 ~  ~7701003   \n",
       "4  21699657 ~  ~7701003   "
      ]
     },
     "execution_count": 7,
     "metadata": {},
     "output_type": "execute_result"
    }
   ],
   "source": [
    "data.columns = data.columns.str.strip(\"~'\")\n",
    "data.head()"
   ]
  },
  {
   "cell_type": "code",
   "execution_count": 8,
   "metadata": {},
   "outputs": [
    {
     "data": {
      "text/html": [
       "<div>\n",
       "<style scoped>\n",
       "    .dataframe tbody tr th:only-of-type {\n",
       "        vertical-align: middle;\n",
       "    }\n",
       "\n",
       "    .dataframe tbody tr th {\n",
       "        vertical-align: top;\n",
       "    }\n",
       "\n",
       "    .dataframe thead th {\n",
       "        text-align: right;\n",
       "    }\n",
       "</style>\n",
       "<table border=\"1\" class=\"dataframe\">\n",
       "  <thead>\n",
       "    <tr style=\"text-align: right;\">\n",
       "      <th></th>\n",
       "      <th>PcrKey</th>\n",
       "      <th>eArrest_12</th>\n",
       "    </tr>\n",
       "  </thead>\n",
       "  <tbody>\n",
       "    <tr>\n",
       "      <th>0</th>\n",
       "      <td>1472192</td>\n",
       "      <td>7701003</td>\n",
       "    </tr>\n",
       "    <tr>\n",
       "      <th>1</th>\n",
       "      <td>13273412</td>\n",
       "      <td>7701001</td>\n",
       "    </tr>\n",
       "    <tr>\n",
       "      <th>2</th>\n",
       "      <td>14548133</td>\n",
       "      <td>7701003</td>\n",
       "    </tr>\n",
       "    <tr>\n",
       "      <th>3</th>\n",
       "      <td>17184298</td>\n",
       "      <td>7701003</td>\n",
       "    </tr>\n",
       "    <tr>\n",
       "      <th>4</th>\n",
       "      <td>21699657</td>\n",
       "      <td>7701003</td>\n",
       "    </tr>\n",
       "  </tbody>\n",
       "</table>\n",
       "</div>"
      ],
      "text/plain": [
       "     PcrKey eArrest_12\n",
       "0   1472192    7701003\n",
       "1  13273412    7701001\n",
       "2  14548133    7701003\n",
       "3  17184298    7701003\n",
       "4  21699657    7701003"
      ]
     },
     "execution_count": 8,
     "metadata": {},
     "output_type": "execute_result"
    }
   ],
   "source": [
    "data = data.apply(lambda x: x.str.strip(\"~ \") if x.dtype == \"object\" else x)\n",
    "data.head()"
   ]
  },
  {
   "cell_type": "code",
   "execution_count": 10,
   "metadata": {},
   "outputs": [
    {
     "data": {
      "text/html": [
       "<div>\n",
       "<style scoped>\n",
       "    .dataframe tbody tr th:only-of-type {\n",
       "        vertical-align: middle;\n",
       "    }\n",
       "\n",
       "    .dataframe tbody tr th {\n",
       "        vertical-align: top;\n",
       "    }\n",
       "\n",
       "    .dataframe thead th {\n",
       "        text-align: right;\n",
       "    }\n",
       "</style>\n",
       "<table border=\"1\" class=\"dataframe\">\n",
       "  <thead>\n",
       "    <tr style=\"text-align: right;\">\n",
       "      <th></th>\n",
       "      <th>Unnamed: 0</th>\n",
       "      <th>PcrPatientRaceGroupKey</th>\n",
       "      <th>PcrKey</th>\n",
       "      <th>ePatient_14</th>\n",
       "    </tr>\n",
       "  </thead>\n",
       "  <tbody>\n",
       "    <tr>\n",
       "      <th>0</th>\n",
       "      <td>0</td>\n",
       "      <td>2088217</td>\n",
       "      <td>1472192</td>\n",
       "      <td>7701003</td>\n",
       "    </tr>\n",
       "    <tr>\n",
       "      <th>1</th>\n",
       "      <td>1</td>\n",
       "      <td>16835623</td>\n",
       "      <td>13273412</td>\n",
       "      <td>2514011</td>\n",
       "    </tr>\n",
       "    <tr>\n",
       "      <th>2</th>\n",
       "      <td>2</td>\n",
       "      <td>18418102</td>\n",
       "      <td>14548133</td>\n",
       "      <td>7701003</td>\n",
       "    </tr>\n",
       "    <tr>\n",
       "      <th>3</th>\n",
       "      <td>3</td>\n",
       "      <td>21377926</td>\n",
       "      <td>17184298</td>\n",
       "      <td>2514011</td>\n",
       "    </tr>\n",
       "    <tr>\n",
       "      <th>4</th>\n",
       "      <td>4</td>\n",
       "      <td>38817731</td>\n",
       "      <td>21699657</td>\n",
       "      <td>2514011</td>\n",
       "    </tr>\n",
       "  </tbody>\n",
       "</table>\n",
       "</div>"
      ],
      "text/plain": [
       "   Unnamed: 0  PcrPatientRaceGroupKey    PcrKey  ePatient_14\n",
       "0           0                 2088217   1472192      7701003\n",
       "1           1                16835623  13273412      2514011\n",
       "2           2                18418102  14548133      7701003\n",
       "3           3                21377926  17184298      2514011\n",
       "4           4                38817731  21699657      2514011"
      ]
     },
     "execution_count": 10,
     "metadata": {},
     "output_type": "execute_result"
    }
   ],
   "source": [
    "data1 = pd.read_csv(pwd + '/cleaned/patientRaceGroup.txt', nrows=20)\n",
    "data1.head()"
   ]
  },
  {
   "cell_type": "code",
   "execution_count": 14,
   "metadata": {},
   "outputs": [],
   "source": [
    "data.to_csv(pwd + '/cleaned/pcrArrestROSC.csv', index=False)"
   ]
  },
  {
   "cell_type": "code",
   "execution_count": 1,
   "metadata": {},
   "outputs": [
    {
     "ename": "NameError",
     "evalue": "name 'pd' is not defined",
     "output_type": "error",
     "traceback": [
      "\u001b[0;31m---------------------------------------------------------------------------\u001b[0m",
      "\u001b[0;31mNameError\u001b[0m                                 Traceback (most recent call last)",
      "\u001b[1;32m/Users/patrickburke/Library/CloudStorage/OneDrive-EmoryUniversity/ECON496RW/work.ipynb Cell 15\u001b[0m in \u001b[0;36m<cell line: 1>\u001b[0;34m()\u001b[0m\n\u001b[0;32m----> <a href='vscode-notebook-cell:/Users/patrickburke/Library/CloudStorage/OneDrive-EmoryUniversity/ECON496RW/work.ipynb#X20sZmlsZQ%3D%3D?line=0'>1</a>\u001b[0m data2 \u001b[39m=\u001b[39m pd\u001b[39m.\u001b[39mread_csv(pwd \u001b[39m+\u001b[39m \u001b[39m'\u001b[39m\u001b[39m/cleaned/pcrArrestROSC.csv\u001b[39m\u001b[39m'\u001b[39m, nrows\u001b[39m=\u001b[39m\u001b[39m10\u001b[39m)\n\u001b[1;32m      <a href='vscode-notebook-cell:/Users/patrickburke/Library/CloudStorage/OneDrive-EmoryUniversity/ECON496RW/work.ipynb#X20sZmlsZQ%3D%3D?line=1'>2</a>\u001b[0m data2\n",
      "\u001b[0;31mNameError\u001b[0m: name 'pd' is not defined"
     ]
    }
   ],
   "source": [
    "data2 = pd.read_csv(pwd + '/cleaned/pcrArrestROSC.csv', nrows=10)\n",
    "data2"
   ]
  },
  {
   "cell_type": "code",
   "execution_count": 13,
   "metadata": {},
   "outputs": [
    {
     "data": {
      "text/plain": [
       "3"
      ]
     },
     "execution_count": 13,
     "metadata": {},
     "output_type": "execute_result"
    }
   ],
   "source": [
    "len(data2.columns)"
   ]
  },
  {
   "cell_type": "code",
   "execution_count": 16,
   "metadata": {},
   "outputs": [],
   "source": [
    "folder = '/Users/patrickburke/Library/CloudStorage/OneDrive-EmoryUniversity/ECON496RW/decompressed/'"
   ]
  },
  {
   "cell_type": "code",
   "execution_count": 17,
   "metadata": {},
   "outputs": [
    {
     "data": {
      "text/plain": [
       "['FACTPCRSECONDARYIMPRESSION.txt',\n",
       " 'FACTPCRPROCEDURE.txt',\n",
       " 'PCRVITALECGGROUP.txt',\n",
       " 'FACTPCRARRESTROSC.txt',\n",
       " 'FACTPCRBARRIERTOCARE.txt',\n",
       " 'ESITUATION_10REF.txt',\n",
       " 'FACTPCRADDITIONALRESPONSEMODE.txt',\n",
       " 'ComputedElements.txt',\n",
       " 'ESITUATION_12REF.txt',\n",
       " 'FACTPCRPROTOCOL.txt',\n",
       " 'FACTPCRARRESTRESUSCITATION.txt',\n",
       " 'FACTPCRSCENEDELAY.txt',\n",
       " 'Pub_PCRevents.txt',\n",
       " 'FACTPCRCAUSEOFINJURY.txt',\n",
       " 'PCRPROCCOMPGROUP.txt',\n",
       " 'FACTPCRVITAL.txt',\n",
       " 'FACTPCRALCOHOLDRUGUSEINDICATOR.txt',\n",
       " 'FACTPCRPRIMARYIMPRESSION.txt',\n",
       " 'PCRVITALGLASGOWQUALIFIERGROUP.txt',\n",
       " 'FACTPCRARRESTRHYTHMDESTINATION.txt',\n",
       " 'PCRVITALECGINTERPRETATIONGROUP.txt',\n",
       " 'FACTPCRPRIMARYSYMPTOM.txt',\n",
       " 'FACTPCRADDITIONALTRANSPORTMODE.txt',\n",
       " 'ESITUATION_11REF.txt',\n",
       " 'FACTPCRRESPONSEDELAY.txt',\n",
       " 'PCRPATIENTRACEGROUP.txt',\n",
       " 'FACTPCRDISPATCHDELAY.txt',\n",
       " 'FACTPCRDESTINATIONTEAM.txt',\n",
       " 'FACTPCRINJURYRISKFACTOR.txt',\n",
       " 'FACTPCRTRAUMACRITERIA.txt',\n",
       " 'EPROCEDURES_03REF.txt',\n",
       " 'FACTPCRTRANSPORTDELAY.txt',\n",
       " 'FACTPCRDESTINATIONREASON.txt',\n",
       " 'FACTPCRARRESTWITNESS.txt',\n",
       " 'EINJURY_01REF.txt',\n",
       " 'ESITUATION_09REF.txt',\n",
       " 'FACTPCRARRESTCPRPROVIDED.txt',\n",
       " 'FACTPCRADDITIONALSYMPTOM.txt',\n",
       " 'FACTPCRTURNAROUNDDELAY.txt']"
      ]
     },
     "execution_count": 17,
     "metadata": {},
     "output_type": "execute_result"
    }
   ],
   "source": [
    "os.listdir(folder)"
   ]
  },
  {
   "cell_type": "code",
   "execution_count": null,
   "metadata": {},
   "outputs": [],
   "source": []
  }
 ],
 "metadata": {
  "kernelspec": {
   "display_name": "Python 3.9.12 ('base')",
   "language": "python",
   "name": "python3"
  },
  "language_info": {
   "codemirror_mode": {
    "name": "ipython",
    "version": 3
   },
   "file_extension": ".py",
   "mimetype": "text/x-python",
   "name": "python",
   "nbconvert_exporter": "python",
   "pygments_lexer": "ipython3",
   "version": "3.9.12"
  },
  "orig_nbformat": 4,
  "vscode": {
   "interpreter": {
    "hash": "40203b3ec892d21f304b904bd7441b754322a8b95cad2515f623282baa87ac4b"
   }
  }
 },
 "nbformat": 4,
 "nbformat_minor": 2
}
